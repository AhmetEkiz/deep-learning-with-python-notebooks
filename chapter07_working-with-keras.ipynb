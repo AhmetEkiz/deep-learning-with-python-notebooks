{
 "cells": [
  {
   "cell_type": "markdown",
   "metadata": {
    "colab_type": "text"
   },
   "source": [
    "This is a companion notebook for the book [Deep Learning with Python, Second Edition](https://www.manning.com/books/deep-learning-with-python-second-edition?a_aid=keras&a_bid=76564dff). For readability, it only contains runnable code blocks and section titles, and omits everything else in the book: text paragraphs, figures, and pseudocode.\n",
    "\n",
    "**If you want to be able to follow what's going on, I recommend reading the notebook side by side with your copy of the book.**\n",
    "\n",
    "This notebook was generated for TensorFlow 2.6."
   ]
  },
  {
   "cell_type": "markdown",
   "metadata": {
    "colab_type": "text"
   },
   "source": [
    "# Working with Keras: A deep dive"
   ]
  },
  {
   "cell_type": "markdown",
   "metadata": {
    "colab_type": "text"
   },
   "source": [
    "## A spectrum of workflows"
   ]
  },
  {
   "cell_type": "markdown",
   "metadata": {
    "colab_type": "text"
   },
   "source": [
    "## Different ways to build Keras models"
   ]
  },
  {
   "cell_type": "markdown",
   "metadata": {
    "colab_type": "text"
   },
   "source": [
    "### The Sequential model"
   ]
  },
  {
   "cell_type": "markdown",
   "metadata": {
    "colab_type": "text"
   },
   "source": [
    "**The `Sequential` class**"
   ]
  },
  {
   "cell_type": "code",
   "execution_count": 1,
   "metadata": {},
   "outputs": [
    {
     "name": "stdout",
     "output_type": "stream",
     "text": [
      "2.10.0\n"
     ]
    }
   ],
   "source": [
    "from tensorflow import keras\n",
    "from tensorflow.keras import layers\n",
    "\n",
    "print(keras.__version__)"
   ]
  },
  {
   "cell_type": "code",
   "execution_count": 2,
   "metadata": {
    "colab_type": "code"
   },
   "outputs": [],
   "source": [
    "model = keras.Sequential([\n",
    "    layers.Dense(64, activation=\"relu\"),\n",
    "    layers.Dense(10, activation=\"softmax\")\n",
    "])"
   ]
  },
  {
   "cell_type": "markdown",
   "metadata": {
    "colab_type": "text"
   },
   "source": [
    "**Incrementally building a Sequential model**"
   ]
  },
  {
   "cell_type": "code",
   "execution_count": 3,
   "metadata": {
    "colab_type": "code"
   },
   "outputs": [],
   "source": [
    "model = keras.Sequential()\n",
    "model.add(layers.Dense(64, activation=\"relu\"))\n",
    "model.add(layers.Dense(10, activation=\"softmax\"))"
   ]
  },
  {
   "cell_type": "markdown",
   "metadata": {
    "colab_type": "text"
   },
   "source": [
    "**Calling a model for the first time to build it**"
   ]
  },
  {
   "cell_type": "code",
   "execution_count": 4,
   "metadata": {
    "colab_type": "code"
   },
   "outputs": [
    {
     "data": {
      "text/plain": [
       "[<tf.Variable 'dense_2/kernel:0' shape=(3, 64) dtype=float32, numpy=\n",
       " array([[ 5.42946756e-02,  2.47239888e-01, -3.97199392e-03,\n",
       "          1.90593749e-01, -1.67300448e-01, -2.59962499e-01,\n",
       "         -2.07158029e-02, -2.46483982e-02,  3.05750966e-02,\n",
       "          2.22175837e-01, -1.05681673e-01,  2.32255101e-01,\n",
       "         -2.32689440e-01,  2.40411341e-01,  2.28848517e-01,\n",
       "         -1.47356838e-01, -3.10750306e-02,  2.55596936e-01,\n",
       "          2.15709448e-01, -1.03202134e-01,  2.23873258e-02,\n",
       "          8.43681097e-02,  8.52394998e-02,  9.36171412e-03,\n",
       "         -2.72017062e-01,  1.99849933e-01, -3.65911126e-02,\n",
       "          2.66736507e-01,  7.83820748e-02,  2.13878155e-02,\n",
       "         -1.25085384e-01,  4.24206853e-02, -6.76944852e-03,\n",
       "          7.86230266e-02,  9.45354998e-02, -1.24759823e-01,\n",
       "          2.23628879e-01,  2.22898602e-01, -2.43287176e-01,\n",
       "         -5.85792363e-02,  5.83842397e-03,  1.01532459e-01,\n",
       "          3.57477665e-02, -1.18605688e-01,  2.35807419e-01,\n",
       "         -1.03492722e-01,  6.69136047e-02,  1.06373429e-02,\n",
       "         -2.01251209e-02, -2.21395791e-01,  2.10198820e-01,\n",
       "          7.99029768e-02, -7.70796239e-02,  2.94923723e-01,\n",
       "         -1.23825669e-01,  2.27882922e-01, -1.38478577e-01,\n",
       "          2.53225148e-01, -1.55561939e-01, -9.00249034e-02,\n",
       "          2.50663579e-01,  1.01238489e-04, -1.47561431e-02,\n",
       "          1.57867968e-01],\n",
       "        [-1.44442365e-01,  1.45463645e-01, -7.63021559e-02,\n",
       "         -1.56680599e-01,  2.16456473e-01, -2.62033224e-01,\n",
       "         -2.39622116e-01,  2.65858591e-01, -5.49238175e-02,\n",
       "          1.53150886e-01, -9.66393948e-03, -3.73635888e-02,\n",
       "          2.98258960e-01, -2.79745281e-01, -1.90351874e-01,\n",
       "          1.06006712e-01, -2.58502781e-01,  7.42225051e-02,\n",
       "         -2.94051230e-01, -8.15240741e-02,  1.06027275e-01,\n",
       "          1.04685366e-01,  2.58263826e-01, -2.45497152e-01,\n",
       "          1.54336184e-01, -3.95151973e-03,  1.08577877e-01,\n",
       "          2.35309005e-01,  1.26092255e-01, -2.04247713e-01,\n",
       "          2.22949386e-02, -1.20863765e-01, -2.65662581e-01,\n",
       "          1.13561064e-01,  5.43105304e-02,  5.49333692e-02,\n",
       "          1.56483948e-01, -4.83365953e-02, -1.09810263e-01,\n",
       "         -7.58141279e-04, -1.65903538e-01, -1.22376829e-01,\n",
       "         -1.89763963e-01, -2.11141378e-01, -1.95399702e-01,\n",
       "          3.76601815e-02, -1.43089339e-01,  2.57663965e-01,\n",
       "          7.52303600e-02,  1.55682445e-01, -5.38432598e-02,\n",
       "          7.44402707e-02,  6.74729645e-02, -2.27745622e-01,\n",
       "         -2.07631364e-01,  2.88452446e-01, -2.10151672e-02,\n",
       "         -2.44332984e-01,  1.70967281e-01,  1.52450979e-01,\n",
       "         -7.77302384e-02,  5.26379347e-02,  1.52644128e-01,\n",
       "          9.33740139e-02],\n",
       "        [-1.20965242e-02, -2.54711092e-01, -1.84742540e-01,\n",
       "         -3.19741964e-02, -2.15333045e-01,  2.29036510e-01,\n",
       "          2.01854050e-01, -1.92088038e-01, -2.98514634e-01,\n",
       "          2.64688671e-01, -2.31342405e-01, -1.01628780e-01,\n",
       "         -1.01050645e-01, -1.49392962e-01,  1.28544450e-01,\n",
       "         -1.68217480e-01, -2.55400240e-01,  1.20188743e-01,\n",
       "         -5.86086363e-02, -6.40878081e-03, -2.61404634e-01,\n",
       "         -2.29333341e-02,  2.96870112e-01,  2.30346680e-01,\n",
       "         -7.56423324e-02,  1.85177892e-01,  2.83172071e-01,\n",
       "         -2.49773443e-01, -8.21645558e-02, -5.32650650e-02,\n",
       "          2.59793878e-01,  1.74541771e-01,  5.13267517e-03,\n",
       "          7.87333846e-02, -2.12727711e-01,  1.59874737e-01,\n",
       "          2.21782923e-01,  1.69184148e-01,  2.45655537e-01,\n",
       "          1.75763249e-01, -1.78099602e-01,  1.26819283e-01,\n",
       "          1.34977639e-01,  1.76987201e-01, -2.03636765e-01,\n",
       "         -2.04816923e-01,  5.68086803e-02,  1.66599035e-01,\n",
       "         -2.79367059e-01, -9.69786346e-02,  7.82229602e-02,\n",
       "         -2.58508027e-02, -2.04030529e-01, -2.59774774e-01,\n",
       "          1.51111513e-01,  2.23781645e-01, -2.87445098e-01,\n",
       "          2.77620554e-02, -2.85578132e-01, -2.49730766e-01,\n",
       "         -1.16753653e-01, -6.04622364e-02, -8.78750682e-02,\n",
       "         -2.35577732e-01]], dtype=float32)>,\n",
       " <tf.Variable 'dense_2/bias:0' shape=(64,) dtype=float32, numpy=\n",
       " array([0., 0., 0., 0., 0., 0., 0., 0., 0., 0., 0., 0., 0., 0., 0., 0., 0.,\n",
       "        0., 0., 0., 0., 0., 0., 0., 0., 0., 0., 0., 0., 0., 0., 0., 0., 0.,\n",
       "        0., 0., 0., 0., 0., 0., 0., 0., 0., 0., 0., 0., 0., 0., 0., 0., 0.,\n",
       "        0., 0., 0., 0., 0., 0., 0., 0., 0., 0., 0., 0., 0.], dtype=float32)>,\n",
       " <tf.Variable 'dense_3/kernel:0' shape=(64, 10) dtype=float32, numpy=\n",
       " array([[-1.02552339e-01,  4.02096212e-02, -1.16108432e-01,\n",
       "         -2.52163559e-01, -6.75657839e-02,  2.32356399e-01,\n",
       "         -1.70634419e-01,  1.72760576e-01, -2.20784277e-01,\n",
       "         -9.63642597e-02],\n",
       "        [ 5.32333851e-02, -1.94110051e-01, -2.63630688e-01,\n",
       "         -1.22625783e-01, -3.43710184e-02,  6.52393699e-03,\n",
       "         -7.14018494e-02,  3.59801948e-02, -1.75499216e-01,\n",
       "          2.21286863e-01],\n",
       "        [ 1.54403239e-01,  2.25762427e-02, -1.47458106e-01,\n",
       "         -2.32214898e-01,  6.70467019e-02, -4.58783507e-02,\n",
       "          2.37387747e-01,  1.73049837e-01, -1.87347621e-01,\n",
       "         -2.09506273e-01],\n",
       "        [ 1.92825377e-01, -2.72108763e-01,  1.41963094e-01,\n",
       "         -1.32327333e-01,  2.32656807e-01, -7.65389502e-02,\n",
       "          1.99037582e-01,  1.89658284e-01, -2.77402669e-01,\n",
       "         -2.06324190e-01],\n",
       "        [-2.65952587e-01, -1.60217106e-01, -8.84437710e-02,\n",
       "          2.76062697e-01,  1.08259916e-02,  6.85410202e-02,\n",
       "          1.94256902e-01, -2.66854018e-01,  1.57487422e-01,\n",
       "          1.32994622e-01],\n",
       "        [-3.42252553e-02,  2.66398787e-02,  7.53675997e-02,\n",
       "          2.56942540e-01, -2.84161359e-01,  2.83051640e-01,\n",
       "          1.72839731e-01, -2.80095100e-01, -2.76869833e-02,\n",
       "         -2.21070230e-01],\n",
       "        [ 2.30074495e-01,  1.03678226e-01,  1.02095008e-02,\n",
       "          6.64445162e-02, -3.47311795e-02, -1.32889315e-01,\n",
       "          1.83941364e-01, -1.43526256e-01, -2.26996541e-02,\n",
       "         -1.37601033e-01],\n",
       "        [ 5.20126522e-02,  4.57996726e-02,  2.28376538e-01,\n",
       "          2.71267146e-01,  2.08046198e-01,  2.01378882e-01,\n",
       "         -1.78863868e-01,  1.05166405e-01,  9.35094655e-02,\n",
       "         -4.17058915e-02],\n",
       "        [-1.47022009e-02,  8.69302452e-02,  6.63445890e-02,\n",
       "          9.22794342e-02,  1.04513586e-01,  2.74169296e-01,\n",
       "          2.19601393e-03,  1.71996951e-02, -2.52133340e-01,\n",
       "          3.11734974e-02],\n",
       "        [ 1.60990298e-01, -2.77405471e-01,  2.36838669e-01,\n",
       "         -1.31529227e-01,  2.09254950e-01,  2.33288795e-01,\n",
       "         -2.31153309e-01,  1.13625199e-01, -2.17873186e-01,\n",
       "         -1.79809213e-01],\n",
       "        [ 1.45786077e-01, -2.69745886e-01,  1.44198209e-01,\n",
       "         -1.86776668e-01,  8.70158076e-02,  9.58736241e-02,\n",
       "         -6.98503852e-03,  1.36782140e-01,  2.33287215e-02,\n",
       "          2.12913841e-01],\n",
       "        [-2.22210348e-01, -2.09454268e-01,  1.01025194e-01,\n",
       "         -1.55216202e-01,  2.53448159e-01, -2.42930233e-01,\n",
       "         -2.65843958e-01,  4.58734632e-02, -8.36557597e-02,\n",
       "         -1.34339914e-01],\n",
       "        [-1.88881516e-01, -4.59757745e-02, -7.43747801e-02,\n",
       "          8.45257044e-02, -1.57579213e-01, -1.99573770e-01,\n",
       "          1.93921119e-01, -8.65719318e-02, -1.37494370e-01,\n",
       "         -1.31458491e-01],\n",
       "        [-7.45673776e-02,  2.88839340e-02,  3.84916663e-02,\n",
       "         -2.62487859e-01,  3.59076262e-02, -1.00898638e-01,\n",
       "         -2.05827162e-01, -7.68666565e-02, -2.28494987e-01,\n",
       "          8.21275115e-02],\n",
       "        [-9.26832408e-02,  2.60250896e-01,  2.04669595e-01,\n",
       "         -2.65493572e-01,  4.43885922e-02,  1.73294991e-01,\n",
       "          2.72754043e-01,  1.05726302e-01, -5.57146519e-02,\n",
       "          5.84466457e-02],\n",
       "        [-9.54917520e-02, -1.40726775e-01,  2.32197136e-01,\n",
       "         -9.66265053e-02,  1.41953260e-01, -4.34470326e-02,\n",
       "         -1.38642237e-01, -1.07223988e-01, -2.09509328e-01,\n",
       "          9.55156982e-02],\n",
       "        [ 6.32427335e-02, -2.58025169e-01, -2.18356967e-01,\n",
       "         -2.30077818e-01, -1.81894600e-02, -1.70068160e-01,\n",
       "         -4.24140394e-02,  2.85461247e-02,  7.80524611e-02,\n",
       "         -2.31691808e-01],\n",
       "        [ 1.35075003e-01,  2.34201044e-01,  6.12326264e-02,\n",
       "          2.12984979e-01, -9.88500118e-02,  5.74740767e-02,\n",
       "          7.59012699e-02,  2.40130156e-01,  1.67769969e-01,\n",
       "          2.20382541e-01],\n",
       "        [ 1.53961420e-01,  2.69041568e-01,  2.09742129e-01,\n",
       "          9.17968154e-02,  1.58539504e-01, -1.93752408e-01,\n",
       "         -1.61527097e-01, -1.07026637e-01, -1.75823390e-01,\n",
       "         -2.34360799e-01],\n",
       "        [ 1.21629238e-01, -6.58550411e-02, -9.44413692e-02,\n",
       "         -1.79618120e-01,  1.81625873e-01,  7.79879093e-02,\n",
       "          4.40591872e-02, -1.51812449e-01, -1.35492980e-02,\n",
       "         -2.06928790e-01],\n",
       "        [ 1.10708416e-01,  2.00075001e-01,  7.77050853e-03,\n",
       "          2.39620537e-01,  6.38313293e-02, -2.41032064e-01,\n",
       "         -1.54102013e-01,  2.73830980e-01,  2.51805812e-01,\n",
       "         -2.48822868e-01],\n",
       "        [-1.65641934e-01,  1.37379766e-03,  2.32020885e-01,\n",
       "          1.82400465e-01, -2.60324717e-01, -2.69827276e-01,\n",
       "          1.03972048e-01, -1.99657679e-01, -1.93547010e-02,\n",
       "         -6.26818389e-02],\n",
       "        [ 6.49205446e-02, -2.79313207e-01,  9.87901390e-02,\n",
       "          1.31359786e-01, -1.15024522e-01, -7.85616338e-02,\n",
       "          3.02656889e-02, -6.23368919e-02, -2.78855711e-01,\n",
       "         -1.83825269e-01],\n",
       "        [ 2.12632626e-01, -1.92279086e-01,  1.15658194e-01,\n",
       "          8.34256709e-02, -1.23048931e-01, -2.08108842e-01,\n",
       "          2.27603585e-01, -8.18510652e-02, -2.25998029e-01,\n",
       "         -1.28222421e-01],\n",
       "        [ 2.57579952e-01,  4.44090366e-03, -2.25325048e-01,\n",
       "         -9.91278142e-02,  1.89805537e-01, -1.94676116e-01,\n",
       "         -8.95826817e-02,  7.26565123e-02, -1.64070159e-01,\n",
       "          9.68595147e-02],\n",
       "        [ 2.69763917e-01,  1.43167049e-01, -7.22346455e-02,\n",
       "          1.23070389e-01, -2.49915540e-01, -1.43309146e-01,\n",
       "         -2.57943153e-01,  3.59810591e-02, -1.79574251e-01,\n",
       "          2.47673184e-01],\n",
       "        [-2.59388238e-01, -1.53563440e-01, -2.57161885e-01,\n",
       "          4.70960140e-03,  1.15976244e-01,  9.70739126e-02,\n",
       "         -1.45900667e-01,  6.66950345e-02,  6.82922006e-02,\n",
       "         -1.34471953e-02],\n",
       "        [-2.42015630e-01,  8.43135417e-02,  5.20785749e-02,\n",
       "          6.45217597e-02, -1.90983355e-01,  5.63017726e-02,\n",
       "         -7.75247067e-02,  1.03899539e-01, -2.11101770e-03,\n",
       "          1.75980270e-01],\n",
       "        [ 2.60797948e-01, -1.10038131e-01, -1.96074158e-01,\n",
       "         -2.34014437e-01,  2.01301277e-01,  5.76279163e-02,\n",
       "         -1.13839105e-01,  2.13195294e-01, -4.62264121e-02,\n",
       "          1.91208124e-02],\n",
       "        [-1.27164304e-01,  1.41532689e-01,  1.41085446e-01,\n",
       "         -1.57810152e-02, -2.38574266e-01,  2.34196693e-01,\n",
       "         -1.05808303e-01, -2.91512907e-02,  7.50574470e-03,\n",
       "          2.25693077e-01],\n",
       "        [-2.33454421e-01,  2.23867029e-01,  1.34484321e-01,\n",
       "         -5.91985136e-02,  1.67113841e-02,  2.09845006e-02,\n",
       "          1.77205145e-01,  2.43893951e-01, -2.77349651e-01,\n",
       "          2.20735878e-01],\n",
       "        [-1.91943645e-01,  1.92251593e-01,  1.18112385e-01,\n",
       "         -7.75389522e-02, -7.31247663e-03, -5.13821840e-02,\n",
       "          6.56634569e-02, -2.45888293e-01,  2.42568463e-01,\n",
       "         -2.92810202e-02],\n",
       "        [ 3.47863734e-02, -2.23142505e-02,  5.95048964e-02,\n",
       "          7.70923197e-02, -2.66749263e-01, -9.18849409e-02,\n",
       "          1.19620532e-01, -3.42561305e-02, -5.81625998e-02,\n",
       "          4.41864133e-03],\n",
       "        [ 2.14893192e-01, -2.46582627e-02,  1.18122101e-01,\n",
       "          2.04396397e-01,  1.62543356e-02, -1.28375441e-01,\n",
       "          4.09267247e-02,  6.48686886e-02,  1.53912455e-01,\n",
       "          2.01442212e-01],\n",
       "        [ 1.91043168e-01,  1.53558224e-01, -1.79192305e-01,\n",
       "          2.38236457e-01,  1.89248323e-01, -4.83699441e-02,\n",
       "          2.63345867e-01, -7.49528408e-05, -1.28833652e-02,\n",
       "         -8.65788609e-02],\n",
       "        [-7.18381107e-02, -1.81495577e-01,  4.57917750e-02,\n",
       "          1.44465208e-01,  2.26470858e-01,  2.56649464e-01,\n",
       "         -2.49836594e-01, -8.06917250e-02, -1.27296954e-01,\n",
       "         -1.75671861e-01],\n",
       "        [ 2.42516845e-01, -8.00159574e-02, -2.49805033e-01,\n",
       "          2.35321313e-01,  1.00423008e-01, -3.92829925e-02,\n",
       "         -2.45254144e-01,  2.31944829e-01, -1.21046543e-01,\n",
       "         -2.08045363e-01],\n",
       "        [-6.99009597e-02,  2.40485698e-01,  1.98898196e-01,\n",
       "          2.44319737e-02, -1.87030911e-01,  6.23872578e-02,\n",
       "         -8.54662061e-03,  5.84077835e-03,  6.72184527e-02,\n",
       "         -1.77669972e-01],\n",
       "        [ 1.81353956e-01,  1.95661873e-01,  1.72076374e-01,\n",
       "         -1.70315951e-01, -2.12538332e-01,  2.69956887e-02,\n",
       "         -1.44422114e-01, -2.53154188e-01, -1.93167478e-01,\n",
       "          2.32043058e-01],\n",
       "        [-1.69930816e-01,  2.52594948e-02, -4.31682765e-02,\n",
       "         -2.54465878e-01, -2.48259455e-01, -2.73803681e-01,\n",
       "          5.78672886e-02,  2.45584518e-01,  1.41663432e-01,\n",
       "         -2.57502228e-01],\n",
       "        [-2.48041332e-01, -1.70989424e-01,  2.15614647e-01,\n",
       "         -1.38956770e-01, -2.24907458e-01,  3.57267261e-03,\n",
       "          2.62610763e-01,  1.84214205e-01, -1.14520237e-01,\n",
       "          2.37528980e-02],\n",
       "        [-9.38409567e-03, -2.08316043e-01, -8.26462507e-02,\n",
       "         -2.69284427e-01,  1.95942223e-02,  2.12629586e-01,\n",
       "         -1.47129864e-01, -2.06872523e-01,  1.77939832e-02,\n",
       "          2.52074093e-01],\n",
       "        [-2.74514198e-01, -2.05475569e-01, -2.01665565e-01,\n",
       "         -1.50904968e-01, -2.36620158e-01,  2.59317070e-01,\n",
       "         -1.80340722e-01, -1.24881461e-01, -5.64081371e-02,\n",
       "         -1.29336551e-01],\n",
       "        [ 1.29637241e-01, -2.72812843e-02,  2.49785155e-01,\n",
       "          5.47654331e-02, -1.44515321e-01, -2.16852620e-01,\n",
       "          1.37914389e-01, -3.47587913e-02,  9.81078446e-02,\n",
       "          2.63187975e-01],\n",
       "        [-4.88021970e-03,  2.37538427e-01,  3.82021368e-02,\n",
       "          2.54736394e-01, -2.09256977e-01, -1.70616299e-01,\n",
       "          2.42605001e-01, -3.72225642e-02,  1.45044446e-01,\n",
       "          1.73762351e-01],\n",
       "        [ 1.50589645e-01, -8.01239014e-02,  1.00903392e-01,\n",
       "         -2.48606578e-01,  1.95241630e-01,  2.41510659e-01,\n",
       "          1.60531372e-01,  1.89153731e-01,  1.34777516e-01,\n",
       "         -1.16152629e-01],\n",
       "        [-1.90460339e-01,  1.21792108e-01,  6.78837299e-03,\n",
       "         -3.97018641e-02,  1.07647747e-01,  1.21936381e-01,\n",
       "          1.10760331e-03, -1.24371350e-02,  6.99080229e-02,\n",
       "          9.32401419e-03],\n",
       "        [ 9.22272205e-02,  1.30115032e-01, -2.55234718e-01,\n",
       "          8.26370120e-02, -1.56309351e-01, -2.44858295e-01,\n",
       "          2.42317021e-02, -1.01730004e-01,  2.09435523e-01,\n",
       "          1.30227506e-02],\n",
       "        [ 2.43481547e-01, -2.81797081e-01, -1.40919849e-01,\n",
       "         -2.74918407e-01,  1.27021670e-01,  2.77204484e-01,\n",
       "         -2.00597942e-01, -1.00093603e-01, -2.60458589e-02,\n",
       "         -1.57043770e-01],\n",
       "        [ 2.17646360e-03,  3.62479389e-02, -1.94346786e-01,\n",
       "          2.58245915e-01,  2.40483612e-01, -2.23083273e-01,\n",
       "          2.33160049e-01, -2.17033207e-01,  1.10387146e-01,\n",
       "          1.29901588e-01],\n",
       "        [-4.16791439e-03, -1.79686546e-01, -7.01613873e-02,\n",
       "          2.11535066e-01,  2.21325427e-01, -9.92528051e-02,\n",
       "         -9.35027301e-02, -1.41667306e-01, -8.22376311e-02,\n",
       "         -8.24894905e-02],\n",
       "        [-6.51678741e-02,  1.05623931e-01,  1.02091044e-01,\n",
       "         -2.80000865e-02,  2.48962611e-01, -2.54402936e-01,\n",
       "         -1.98171586e-01, -2.82746017e-01,  2.31961519e-01,\n",
       "          1.72438443e-01],\n",
       "        [-1.99859306e-01,  8.71103704e-02, -1.05178967e-01,\n",
       "         -1.30898818e-01,  2.10272819e-01,  1.59424931e-01,\n",
       "         -1.55426517e-01,  1.67723209e-01,  1.70123637e-01,\n",
       "          2.17791647e-01],\n",
       "        [-8.63030255e-02,  3.11233401e-02, -8.47399235e-04,\n",
       "          1.08754426e-01,  1.47405028e-01, -2.29043394e-01,\n",
       "          1.97383136e-01, -9.20939595e-02,  4.83277738e-02,\n",
       "         -1.72074690e-01],\n",
       "        [ 1.58639848e-02,  8.98620486e-03,  2.15409189e-01,\n",
       "         -1.39305040e-01,  2.78099984e-01, -1.90851092e-02,\n",
       "         -2.76997387e-01, -1.64301723e-01,  1.52896434e-01,\n",
       "         -1.48532122e-01],\n",
       "        [ 9.50096548e-02,  3.15011442e-02, -2.17568919e-01,\n",
       "         -2.47567669e-01,  2.21579075e-02,  2.52170771e-01,\n",
       "         -1.55824214e-01,  1.01780981e-01, -1.78818375e-01,\n",
       "          4.83788252e-02],\n",
       "        [ 2.04990029e-01,  1.25255138e-01,  1.32944167e-01,\n",
       "          2.36731172e-02,  1.42708868e-01,  7.34837353e-02,\n",
       "         -4.37418073e-02,  6.65560067e-02,  2.07906932e-01,\n",
       "         -1.00033656e-01],\n",
       "        [ 2.73558825e-01,  1.76487058e-01,  9.79673862e-03,\n",
       "          7.79979527e-02,  1.33172214e-01,  3.07113826e-02,\n",
       "         -1.81877330e-01,  1.16625488e-01,  1.41775310e-01,\n",
       "         -4.62627411e-02],\n",
       "        [ 1.04158223e-02, -2.76114285e-01,  5.14323413e-02,\n",
       "          4.33689058e-02,  5.48130274e-03,  8.30616653e-02,\n",
       "         -9.15025771e-02, -4.05553728e-02,  5.48751950e-02,\n",
       "          9.21582580e-02],\n",
       "        [-8.04553330e-02,  1.71741068e-01, -2.59178400e-01,\n",
       "         -1.86455369e-01,  1.06623381e-01, -6.81064427e-02,\n",
       "          3.77590954e-02,  1.02580667e-01,  2.33905226e-01,\n",
       "          1.26505315e-01],\n",
       "        [-9.52552259e-02, -1.97310954e-01, -3.00945342e-02,\n",
       "         -1.37936607e-01, -1.35908425e-02,  1.87626481e-03,\n",
       "          2.14782059e-01, -4.79943156e-02,  1.07015043e-01,\n",
       "          2.32713521e-02],\n",
       "        [-1.68457687e-01,  5.76616526e-02,  1.99786812e-01,\n",
       "          1.75953507e-02,  1.09689057e-01, -2.38218606e-02,\n",
       "          1.92753762e-01,  1.94738030e-01, -1.19270235e-01,\n",
       "         -1.03592873e-03],\n",
       "        [-1.25573322e-01, -2.36802399e-02,  4.88624871e-02,\n",
       "         -2.57815927e-01, -9.29069370e-02,  1.60287797e-01,\n",
       "         -5.69572300e-02, -5.83728552e-02, -1.56669840e-01,\n",
       "          8.18252563e-03],\n",
       "        [ 9.57521796e-03, -1.11535087e-01, -6.79676831e-02,\n",
       "          6.23455942e-02, -2.20227987e-01,  2.70286828e-01,\n",
       "         -1.69154912e-01,  1.13480657e-01, -1.12649962e-01,\n",
       "         -1.22066513e-01]], dtype=float32)>,\n",
       " <tf.Variable 'dense_3/bias:0' shape=(10,) dtype=float32, numpy=array([0., 0., 0., 0., 0., 0., 0., 0., 0., 0.], dtype=float32)>]"
      ]
     },
     "execution_count": 4,
     "metadata": {},
     "output_type": "execute_result"
    }
   ],
   "source": [
    "model.build(input_shape=(None, 3))\n",
    "model.weights"
   ]
  },
  {
   "cell_type": "markdown",
   "metadata": {
    "colab_type": "text"
   },
   "source": [
    "**The summary method**"
   ]
  },
  {
   "cell_type": "code",
   "execution_count": 5,
   "metadata": {
    "colab_type": "code"
   },
   "outputs": [
    {
     "name": "stdout",
     "output_type": "stream",
     "text": [
      "Model: \"sequential_1\"\n",
      "_________________________________________________________________\n",
      " Layer (type)                Output Shape              Param #   \n",
      "=================================================================\n",
      " dense_2 (Dense)             (None, 64)                256       \n",
      "                                                                 \n",
      " dense_3 (Dense)             (None, 10)                650       \n",
      "                                                                 \n",
      "=================================================================\n",
      "Total params: 906\n",
      "Trainable params: 906\n",
      "Non-trainable params: 0\n",
      "_________________________________________________________________\n"
     ]
    }
   ],
   "source": [
    "model.summary()"
   ]
  },
  {
   "cell_type": "markdown",
   "metadata": {
    "colab_type": "text"
   },
   "source": [
    "**Naming models and layers with the `name` argument**"
   ]
  },
  {
   "cell_type": "code",
   "execution_count": 6,
   "metadata": {
    "colab_type": "code"
   },
   "outputs": [
    {
     "name": "stdout",
     "output_type": "stream",
     "text": [
      "Model: \"my_example_model\"\n",
      "_________________________________________________________________\n",
      " Layer (type)                Output Shape              Param #   \n",
      "=================================================================\n",
      " my_first_layer (Dense)      (None, 64)                256       \n",
      "                                                                 \n",
      " my_last_layer (Dense)       (None, 10)                650       \n",
      "                                                                 \n",
      "=================================================================\n",
      "Total params: 906\n",
      "Trainable params: 906\n",
      "Non-trainable params: 0\n",
      "_________________________________________________________________\n"
     ]
    }
   ],
   "source": [
    "model = keras.Sequential(name=\"my_example_model\")\n",
    "model.add(layers.Dense(64, activation=\"relu\", name=\"my_first_layer\"))\n",
    "model.add(layers.Dense(10, activation=\"softmax\", name=\"my_last_layer\"))\n",
    "model.build((None, 3))\n",
    "model.summary()"
   ]
  },
  {
   "cell_type": "markdown",
   "metadata": {
    "colab_type": "text"
   },
   "source": [
    "**Specifying the input shape of your model in advance**"
   ]
  },
  {
   "cell_type": "code",
   "execution_count": 7,
   "metadata": {
    "colab_type": "code"
   },
   "outputs": [],
   "source": [
    "model = keras.Sequential()\n",
    "model.add(keras.Input(shape=(3,)))\n",
    "model.add(layers.Dense(64, activation=\"relu\"))"
   ]
  },
  {
   "cell_type": "code",
   "execution_count": 8,
   "metadata": {
    "colab_type": "code"
   },
   "outputs": [
    {
     "name": "stdout",
     "output_type": "stream",
     "text": [
      "Model: \"sequential_2\"\n",
      "_________________________________________________________________\n",
      " Layer (type)                Output Shape              Param #   \n",
      "=================================================================\n",
      " dense_4 (Dense)             (None, 64)                256       \n",
      "                                                                 \n",
      "=================================================================\n",
      "Total params: 256\n",
      "Trainable params: 256\n",
      "Non-trainable params: 0\n",
      "_________________________________________________________________\n"
     ]
    }
   ],
   "source": [
    "model.summary()"
   ]
  },
  {
   "cell_type": "code",
   "execution_count": 9,
   "metadata": {
    "colab_type": "code"
   },
   "outputs": [
    {
     "name": "stdout",
     "output_type": "stream",
     "text": [
      "Model: \"sequential_2\"\n",
      "_________________________________________________________________\n",
      " Layer (type)                Output Shape              Param #   \n",
      "=================================================================\n",
      " dense_4 (Dense)             (None, 64)                256       \n",
      "                                                                 \n",
      " dense_5 (Dense)             (None, 10)                650       \n",
      "                                                                 \n",
      "=================================================================\n",
      "Total params: 906\n",
      "Trainable params: 906\n",
      "Non-trainable params: 0\n",
      "_________________________________________________________________\n"
     ]
    }
   ],
   "source": [
    "model.add(layers.Dense(10, activation=\"softmax\"))\n",
    "model.summary()"
   ]
  },
  {
   "cell_type": "markdown",
   "metadata": {
    "colab_type": "text"
   },
   "source": [
    "### The Functional API"
   ]
  },
  {
   "cell_type": "markdown",
   "metadata": {
    "colab_type": "text"
   },
   "source": [
    "#### A simple example"
   ]
  },
  {
   "cell_type": "markdown",
   "metadata": {
    "colab_type": "text"
   },
   "source": [
    "**A simple Functional model with two `Dense` layers**"
   ]
  },
  {
   "cell_type": "code",
   "execution_count": 10,
   "metadata": {
    "colab_type": "code"
   },
   "outputs": [],
   "source": [
    "inputs = keras.Input(shape=(3,), name=\"my_input\")\n",
    "features = layers.Dense(64, activation=\"relu\")(inputs)\n",
    "outputs = layers.Dense(10, activation=\"softmax\")(features)\n",
    "model = keras.Model(inputs=inputs, outputs=outputs)"
   ]
  },
  {
   "cell_type": "code",
   "execution_count": 11,
   "metadata": {
    "colab_type": "code"
   },
   "outputs": [],
   "source": [
    "inputs = keras.Input(shape=(3,), name=\"my_input\")"
   ]
  },
  {
   "cell_type": "code",
   "execution_count": 12,
   "metadata": {
    "colab_type": "code"
   },
   "outputs": [
    {
     "data": {
      "text/plain": [
       "TensorShape([None, 3])"
      ]
     },
     "execution_count": 12,
     "metadata": {},
     "output_type": "execute_result"
    }
   ],
   "source": [
    "inputs.shape"
   ]
  },
  {
   "cell_type": "code",
   "execution_count": 13,
   "metadata": {
    "colab_type": "code"
   },
   "outputs": [
    {
     "data": {
      "text/plain": [
       "tf.float32"
      ]
     },
     "execution_count": 13,
     "metadata": {},
     "output_type": "execute_result"
    }
   ],
   "source": [
    "inputs.dtype"
   ]
  },
  {
   "cell_type": "code",
   "execution_count": 14,
   "metadata": {
    "colab_type": "code"
   },
   "outputs": [],
   "source": [
    "features = layers.Dense(64, activation=\"relu\")(inputs)"
   ]
  },
  {
   "cell_type": "code",
   "execution_count": 15,
   "metadata": {
    "colab_type": "code"
   },
   "outputs": [
    {
     "data": {
      "text/plain": [
       "TensorShape([None, 64])"
      ]
     },
     "execution_count": 15,
     "metadata": {},
     "output_type": "execute_result"
    }
   ],
   "source": [
    "features.shape"
   ]
  },
  {
   "cell_type": "code",
   "execution_count": 16,
   "metadata": {
    "colab_type": "code"
   },
   "outputs": [],
   "source": [
    "outputs = layers.Dense(10, activation=\"softmax\")(features)\n",
    "model = keras.Model(inputs=inputs, outputs=outputs)"
   ]
  },
  {
   "cell_type": "code",
   "execution_count": 17,
   "metadata": {
    "colab_type": "code"
   },
   "outputs": [
    {
     "name": "stdout",
     "output_type": "stream",
     "text": [
      "Model: \"model_1\"\n",
      "_________________________________________________________________\n",
      " Layer (type)                Output Shape              Param #   \n",
      "=================================================================\n",
      " my_input (InputLayer)       [(None, 3)]               0         \n",
      "                                                                 \n",
      " dense_8 (Dense)             (None, 64)                256       \n",
      "                                                                 \n",
      " dense_9 (Dense)             (None, 10)                650       \n",
      "                                                                 \n",
      "=================================================================\n",
      "Total params: 906\n",
      "Trainable params: 906\n",
      "Non-trainable params: 0\n",
      "_________________________________________________________________\n"
     ]
    }
   ],
   "source": [
    "model.summary()"
   ]
  },
  {
   "cell_type": "markdown",
   "metadata": {
    "colab_type": "text"
   },
   "source": [
    "#### Multi-input, multi-output models"
   ]
  },
  {
   "cell_type": "markdown",
   "metadata": {
    "colab_type": "text"
   },
   "source": [
    "**A multi-input, multi-output Functional model**"
   ]
  },
  {
   "cell_type": "code",
   "execution_count": 18,
   "metadata": {
    "colab_type": "code"
   },
   "outputs": [],
   "source": [
    "vocabulary_size = 10000\n",
    "num_tags = 100\n",
    "num_departments = 4\n",
    "\n",
    "title = keras.Input(shape=(vocabulary_size,), name=\"title\")\n",
    "text_body = keras.Input(shape=(vocabulary_size,), name=\"text_body\")\n",
    "tags = keras.Input(shape=(num_tags,), name=\"tags\")\n",
    "\n",
    "features = layers.Concatenate()([title, text_body, tags])\n",
    "features = layers.Dense(64, activation=\"relu\")(features)\n",
    "\n",
    "priority = layers.Dense(1, activation=\"sigmoid\", name=\"priority\")(features)\n",
    "department = layers.Dense(\n",
    "    num_departments, activation=\"softmax\", name=\"department\")(features)\n",
    "\n",
    "model = keras.Model(inputs=[title, text_body, tags], outputs=[priority, department])"
   ]
  },
  {
   "cell_type": "markdown",
   "metadata": {
    "colab_type": "text"
   },
   "source": [
    "#### Training a multi-input, multi-output model"
   ]
  },
  {
   "cell_type": "markdown",
   "metadata": {
    "colab_type": "text"
   },
   "source": [
    "**Training a model by providing lists of input & target arrays**"
   ]
  },
  {
   "cell_type": "code",
   "execution_count": 19,
   "metadata": {
    "colab_type": "code"
   },
   "outputs": [
    {
     "name": "stdout",
     "output_type": "stream",
     "text": [
      "40/40 [==============================] - 3s 6ms/step - loss: 34.5555 - priority_loss: 0.3254 - department_loss: 34.2300 - priority_mean_absolute_error: 0.4940 - department_accuracy: 0.2734\n",
      "40/40 [==============================] - 0s 4ms/step - loss: 28.3102 - priority_loss: 0.3385 - department_loss: 27.9717 - priority_mean_absolute_error: 0.5070 - department_accuracy: 0.1281\n",
      "40/40 [==============================] - 0s 3ms/step\n"
     ]
    }
   ],
   "source": [
    "import numpy as np\n",
    "\n",
    "num_samples = 1280\n",
    "\n",
    "title_data = np.random.randint(0, 2, size=(num_samples, vocabulary_size))\n",
    "text_body_data = np.random.randint(0, 2, size=(num_samples, vocabulary_size))\n",
    "tags_data = np.random.randint(0, 2, size=(num_samples, num_tags))\n",
    "\n",
    "priority_data = np.random.random(size=(num_samples, 1))\n",
    "department_data = np.random.randint(0, 2, size=(num_samples, num_departments))\n",
    "\n",
    "model.compile(optimizer=\"rmsprop\",\n",
    "              loss=[\"mean_squared_error\", \"categorical_crossentropy\"],\n",
    "              metrics=[[\"mean_absolute_error\"], [\"accuracy\"]])\n",
    "model.fit([title_data, text_body_data, tags_data],\n",
    "          [priority_data, department_data],\n",
    "          epochs=1)\n",
    "model.evaluate([title_data, text_body_data, tags_data],\n",
    "               [priority_data, department_data])\n",
    "priority_preds, department_preds = model.predict([title_data, text_body_data, tags_data])"
   ]
  },
  {
   "cell_type": "markdown",
   "metadata": {
    "colab_type": "text"
   },
   "source": [
    "**Training a model by providing dicts of input & target arrays**"
   ]
  },
  {
   "cell_type": "code",
   "execution_count": 20,
   "metadata": {
    "colab_type": "code"
   },
   "outputs": [
    {
     "name": "stdout",
     "output_type": "stream",
     "text": [
      "40/40 [==============================] - 1s 5ms/step - loss: 47.8492 - priority_loss: 0.3385 - department_loss: 47.5108 - priority_mean_absolute_error: 0.5070 - department_accuracy: 0.2602\n",
      "40/40 [==============================] - 0s 5ms/step - loss: 19.7976 - priority_loss: 0.3385 - department_loss: 19.4591 - priority_mean_absolute_error: 0.5070 - department_accuracy: 0.2688\n",
      "40/40 [==============================] - 0s 3ms/step\n"
     ]
    }
   ],
   "source": [
    "model.compile(optimizer=\"rmsprop\",\n",
    "              loss={\"priority\": \"mean_squared_error\", \"department\": \"categorical_crossentropy\"},\n",
    "              metrics={\"priority\": [\"mean_absolute_error\"], \"department\": [\"accuracy\"]})\n",
    "model.fit({\"title\": title_data, \"text_body\": text_body_data, \"tags\": tags_data},\n",
    "          {\"priority\": priority_data, \"department\": department_data},\n",
    "          epochs=1)\n",
    "model.evaluate({\"title\": title_data, \"text_body\": text_body_data, \"tags\": tags_data},\n",
    "               {\"priority\": priority_data, \"department\": department_data})\n",
    "priority_preds, department_preds = model.predict(\n",
    "    {\"title\": title_data, \"text_body\": text_body_data, \"tags\": tags_data})"
   ]
  },
  {
   "cell_type": "markdown",
   "metadata": {
    "colab_type": "text"
   },
   "source": [
    "#### The power of the Functional API: Access to layer connectivity"
   ]
  },
  {
   "cell_type": "code",
   "execution_count": 21,
   "metadata": {
    "colab_type": "code"
   },
   "outputs": [
    {
     "data": {
      "image/png": "[encoded data removed]",
      "text/plain": [
       "<IPython.core.display.Image object>"
      ]
     },
     "execution_count": 21,
     "metadata": {},
     "output_type": "execute_result"
    }
   ],
   "source": [
    "keras.utils.plot_model(model, \"ticket_classifier.png\")"
   ]
  },
  {
   "cell_type": "code",
   "execution_count": 22,
   "metadata": {
    "colab_type": "code"
   },
   "outputs": [
    {
     "data": {
      "image/png": "[encoded data removed]",
      "text/plain": [
       "<IPython.core.display.Image object>"
      ]
     },
     "execution_count": 22,
     "metadata": {},
     "output_type": "execute_result"
    }
   ],
   "source": [
    "keras.utils.plot_model(model, \"ticket_classifier_with_shape_info.png\", show_shapes=True)"
   ]
  },
  {
   "cell_type": "markdown",
   "metadata": {
    "colab_type": "text"
   },
   "source": [
    "**Retrieving the inputs or outputs of a layer in a Functional model**"
   ]
  },
  {
   "cell_type": "code",
   "execution_count": 23,
   "metadata": {
    "colab_type": "code"
   },
   "outputs": [
    {
     "data": {
      "text/plain": [
       "[<keras.engine.input_layer.InputLayer at 0x175eb6bdf70>,\n",
       " <keras.engine.input_layer.InputLayer at 0x17581331d30>,\n",
       " <keras.engine.input_layer.InputLayer at 0x17581324550>,\n",
       " <keras.layers.merging.concatenate.Concatenate at 0x17581326310>,\n",
       " <keras.layers.core.dense.Dense at 0x17581326760>,\n",
       " <keras.layers.core.dense.Dense at 0x175eb73f7c0>,\n",
       " <keras.layers.core.dense.Dense at 0x175812cf910>]"
      ]
     },
     "execution_count": 23,
     "metadata": {},
     "output_type": "execute_result"
    }
   ],
   "source": [
    "model.layers"
   ]
  },
  {
   "cell_type": "code",
   "execution_count": 24,
   "metadata": {
    "colab_type": "code"
   },
   "outputs": [
    {
     "data": {
      "text/plain": [
       "[<KerasTensor: shape=(None, 10000) dtype=float32 (created by layer 'title')>,\n",
       " <KerasTensor: shape=(None, 10000) dtype=float32 (created by layer 'text_body')>,\n",
       " <KerasTensor: shape=(None, 100) dtype=float32 (created by layer 'tags')>]"
      ]
     },
     "execution_count": 24,
     "metadata": {},
     "output_type": "execute_result"
    }
   ],
   "source": [
    "model.layers[3].input"
   ]
  },
  {
   "cell_type": "code",
   "execution_count": 25,
   "metadata": {
    "colab_type": "code"
   },
   "outputs": [
    {
     "data": {
      "text/plain": [
       "<KerasTensor: shape=(None, 20100) dtype=float32 (created by layer 'concatenate')>"
      ]
     },
     "execution_count": 25,
     "metadata": {},
     "output_type": "execute_result"
    }
   ],
   "source": [
    "model.layers[3].output"
   ]
  },
  {
   "cell_type": "markdown",
   "metadata": {
    "colab_type": "text"
   },
   "source": [
    "**Creating a new model by reusing intermediate layer outputs**"
   ]
  },
  {
   "cell_type": "code",
   "execution_count": 26,
   "metadata": {
    "colab_type": "code"
   },
   "outputs": [],
   "source": [
    "features = model.layers[4].output\n",
    "difficulty = layers.Dense(3, activation=\"softmax\", name=\"difficulty\")(features)\n",
    "\n",
    "new_model = keras.Model(\n",
    "    inputs=[title, text_body, tags],\n",
    "    outputs=[priority, department, difficulty])"
   ]
  },
  {
   "cell_type": "code",
   "execution_count": 27,
   "metadata": {
    "colab_type": "code"
   },
   "outputs": [
    {
     "data": {
      "image/png": "[encoded data removed]",
      "text/plain": [
       "<IPython.core.display.Image object>"
      ]
     },
     "execution_count": 27,
     "metadata": {},
     "output_type": "execute_result"
    }
   ],
   "source": [
    "keras.utils.plot_model(new_model, \"updated_ticket_classifier.png\", show_shapes=True)"
   ]
  },
  {
   "cell_type": "markdown",
   "metadata": {
    "colab_type": "text"
   },
   "source": [
    "### Subclassing the Model class"
   ]
  },
  {
   "cell_type": "markdown",
   "metadata": {
    "colab_type": "text"
   },
   "source": [
    "#### Rewriting our previous example as a subclassed model"
   ]
  },
  {
   "cell_type": "markdown",
   "metadata": {
    "colab_type": "text"
   },
   "source": [
    "**A simple subclassed model**"
   ]
  },
  {
   "cell_type": "code",
   "execution_count": 28,
   "metadata": {
    "colab_type": "code"
   },
   "outputs": [],
   "source": [
    "class CustomerTicketModel(keras.Model):\n",
    "\n",
    "    def __init__(self, num_departments):\n",
    "        super().__init__()\n",
    "        self.concat_layer = layers.Concatenate()\n",
    "        self.mixing_layer = layers.Dense(64, activation=\"relu\")\n",
    "        self.priority_scorer = layers.Dense(1, activation=\"sigmoid\")\n",
    "        self.department_classifier = layers.Dense(\n",
    "            num_departments, activation=\"softmax\")\n",
    "\n",
    "    def call(self, inputs):\n",
    "        title = inputs[\"title\"]\n",
    "        text_body = inputs[\"text_body\"]\n",
    "        tags = inputs[\"tags\"]\n",
    "\n",
    "        features = self.concat_layer([title, text_body, tags])\n",
    "        features = self.mixing_layer(features)\n",
    "        priority = self.priority_scorer(features)\n",
    "        department = self.department_classifier(features)\n",
    "        return priority, department"
   ]
  },
  {
   "cell_type": "code",
   "execution_count": 29,
   "metadata": {
    "colab_type": "code"
   },
   "outputs": [],
   "source": [
    "model = CustomerTicketModel(num_departments=4)\n",
    "\n",
    "priority, department = model(\n",
    "    {\"title\": title_data, \"text_body\": text_body_data, \"tags\": tags_data})"
   ]
  },
  {
   "cell_type": "code",
   "execution_count": 30,
   "metadata": {
    "colab_type": "code"
   },
   "outputs": [
    {
     "name": "stdout",
     "output_type": "stream",
     "text": [
      "40/40 [==============================] - 1s 10ms/step - loss: 27.1018 - output_1_loss: 0.2953 - output_2_loss: 26.8065 - output_1_mean_absolute_error: 0.4626 - output_2_accuracy: 0.2406\n",
      "40/40 [==============================] - 0s 5ms/step - loss: 12.6724 - output_1_loss: 0.3245 - output_2_loss: 12.3478 - output_1_mean_absolute_error: 0.4930 - output_2_accuracy: 0.0719\n",
      "40/40 [==============================] - 0s 3ms/step\n"
     ]
    }
   ],
   "source": [
    "model.compile(optimizer=\"rmsprop\",\n",
    "              loss=[\"mean_squared_error\", \"categorical_crossentropy\"],\n",
    "              metrics=[[\"mean_absolute_error\"], [\"accuracy\"]])\n",
    "model.fit({\"title\": title_data,\n",
    "           \"text_body\": text_body_data,\n",
    "           \"tags\": tags_data},\n",
    "          [priority_data, department_data],\n",
    "          epochs=1)\n",
    "model.evaluate({\"title\": title_data,\n",
    "                \"text_body\": text_body_data,\n",
    "                \"tags\": tags_data},\n",
    "               [priority_data, department_data])\n",
    "priority_preds, department_preds = model.predict({\"title\": title_data,\n",
    "                                                  \"text_body\": text_body_data,\n",
    "                                                  \"tags\": tags_data})"
   ]
  },
  {
   "cell_type": "markdown",
   "metadata": {
    "colab_type": "text"
   },
   "source": [
    "#### Beware: What subclassed models don't support"
   ]
  },
  {
   "cell_type": "markdown",
   "metadata": {
    "colab_type": "text"
   },
   "source": [
    "### Mixing and matching different components"
   ]
  },
  {
   "cell_type": "markdown",
   "metadata": {
    "colab_type": "text"
   },
   "source": [
    "**Creating a Functional model that includes a subclassed model**"
   ]
  },
  {
   "cell_type": "code",
   "execution_count": 31,
   "metadata": {
    "colab_type": "code"
   },
   "outputs": [],
   "source": [
    "class Classifier(keras.Model):\n",
    "\n",
    "    def __init__(self, num_classes=2):\n",
    "        super().__init__()\n",
    "        if num_classes == 2:\n",
    "            num_units = 1\n",
    "            activation = \"sigmoid\"\n",
    "        else:\n",
    "            num_units = num_classes\n",
    "            activation = \"softmax\"\n",
    "        self.dense = layers.Dense(num_units, activation=activation)\n",
    "\n",
    "    def call(self, inputs):\n",
    "        return self.dense(inputs)\n",
    "\n",
    "inputs = keras.Input(shape=(3,))\n",
    "features = layers.Dense(64, activation=\"relu\")(inputs)\n",
    "outputs = Classifier(num_classes=10)(features)\n",
    "model = keras.Model(inputs=inputs, outputs=outputs)"
   ]
  },
  {
   "cell_type": "markdown",
   "metadata": {
    "colab_type": "text"
   },
   "source": [
    "**Creating a subclassed model that includes a Functional model**"
   ]
  },
  {
   "cell_type": "code",
   "execution_count": 32,
   "metadata": {
    "colab_type": "code"
   },
   "outputs": [],
   "source": [
    "inputs = keras.Input(shape=(64,))\n",
    "outputs = layers.Dense(1, activation=\"sigmoid\")(inputs)\n",
    "binary_classifier = keras.Model(inputs=inputs, outputs=outputs)\n",
    "\n",
    "class MyModel(keras.Model):\n",
    "\n",
    "    def __init__(self, num_classes=2):\n",
    "        super().__init__()\n",
    "        self.dense = layers.Dense(64, activation=\"relu\")\n",
    "        self.classifier = binary_classifier\n",
    "\n",
    "    def call(self, inputs):\n",
    "        features = self.dense(inputs)\n",
    "        return self.classifier(features)\n",
    "\n",
    "model = MyModel()"
   ]
  },
  {
   "cell_type": "markdown",
   "metadata": {
    "colab_type": "text"
   },
   "source": [
    "### Remember: Use the right tool for the job"
   ]
  },
  {
   "cell_type": "markdown",
   "metadata": {
    "colab_type": "text"
   },
   "source": [
    "## Using built-in training and evaluation loops"
   ]
  },
  {
   "cell_type": "markdown",
   "metadata": {
    "colab_type": "text"
   },
   "source": [
    "**The standard workflow: `compile()`, `fit()`, `evaluate()`, `predict()`**"
   ]
  },
  {
   "cell_type": "code",
   "execution_count": 33,
   "metadata": {
    "colab_type": "code"
   },
   "outputs": [
    {
     "name": "stdout",
     "output_type": "stream",
     "text": [
      "Epoch 1/3\n",
      "1563/1563 [==============================] - 7s 4ms/step - loss: 0.2936 - accuracy: 0.9129 - val_loss: 0.1480 - val_accuracy: 0.9568\n",
      "Epoch 2/3\n",
      "1563/1563 [==============================] - 6s 4ms/step - loss: 0.1642 - accuracy: 0.9536 - val_loss: 0.1248 - val_accuracy: 0.9681\n",
      "Epoch 3/3\n",
      "1563/1563 [==============================] - 6s 4ms/step - loss: 0.1416 - accuracy: 0.9622 - val_loss: 0.1149 - val_accuracy: 0.9719\n",
      "313/313 [==============================] - 1s 2ms/step - loss: 0.1082 - accuracy: 0.9720\n",
      "313/313 [==============================] - 0s 1ms/step\n"
     ]
    }
   ],
   "source": [
    "from tensorflow.keras.datasets import mnist\n",
    "\n",
    "def get_mnist_model():\n",
    "    inputs = keras.Input(shape=(28 * 28,))\n",
    "    features = layers.Dense(512, activation=\"relu\")(inputs)\n",
    "    features = layers.Dropout(0.5)(features)\n",
    "    outputs = layers.Dense(10, activation=\"softmax\")(features)\n",
    "    model = keras.Model(inputs, outputs)\n",
    "    return model\n",
    "\n",
    "(images, labels), (test_images, test_labels) = mnist.load_data()\n",
    "images = images.reshape((60000, 28 * 28)).astype(\"float32\") / 255\n",
    "test_images = test_images.reshape((10000, 28 * 28)).astype(\"float32\") / 255\n",
    "train_images, val_images = images[10000:], images[:10000]\n",
    "train_labels, val_labels = labels[10000:], labels[:10000]\n",
    "\n",
    "model = get_mnist_model()\n",
    "model.compile(optimizer=\"rmsprop\",\n",
    "              loss=\"sparse_categorical_crossentropy\",\n",
    "              metrics=[\"accuracy\"])\n",
    "model.fit(train_images, train_labels,\n",
    "          epochs=3,\n",
    "          validation_data=(val_images, val_labels))\n",
    "test_metrics = model.evaluate(test_images, test_labels)\n",
    "predictions = model.predict(test_images)"
   ]
  },
  {
   "cell_type": "markdown",
   "metadata": {
    "colab_type": "text"
   },
   "source": [
    "### Writing your own metrics"
   ]
  },
  {
   "cell_type": "markdown",
   "metadata": {
    "colab_type": "text"
   },
   "source": [
    "**Implementing a custom metric by subclassing the `Metric` class**"
   ]
  },
  {
   "cell_type": "code",
   "execution_count": 34,
   "metadata": {
    "colab_type": "code"
   },
   "outputs": [],
   "source": [
    "import tensorflow as tf\n",
    "\n",
    "class RootMeanSquaredError(keras.metrics.Metric):\n",
    "\n",
    "    def __init__(self, name=\"rmse\", **kwargs):\n",
    "        super().__init__(name=name, **kwargs)\n",
    "        self.mse_sum = self.add_weight(name=\"mse_sum\", initializer=\"zeros\")\n",
    "        self.total_samples = self.add_weight(\n",
    "            name=\"total_samples\", initializer=\"zeros\", dtype=\"int32\")\n",
    "\n",
    "    def update_state(self, y_true, y_pred, sample_weight=None):\n",
    "        y_true = tf.one_hot(y_true, depth=tf.shape(y_pred)[1])\n",
    "        mse = tf.reduce_sum(tf.square(y_true - y_pred))\n",
    "        self.mse_sum.assign_add(mse)\n",
    "        num_samples = tf.shape(y_pred)[0]\n",
    "        self.total_samples.assign_add(num_samples)\n",
    "\n",
    "    def result(self):\n",
    "        return tf.sqrt(self.mse_sum / tf.cast(self.total_samples, tf.float32))\n",
    "\n",
    "    def reset_state(self):\n",
    "        self.mse_sum.assign(0.)\n",
    "        self.total_samples.assign(0)"
   ]
  },
  {
   "cell_type": "code",
   "execution_count": 35,
   "metadata": {
    "colab_type": "code"
   },
   "outputs": [
    {
     "name": "stdout",
     "output_type": "stream",
     "text": [
      "Epoch 1/3\n",
      "1563/1563 [==============================] - 9s 5ms/step - loss: 0.2961 - accuracy: 0.9112 - rmse: 7.1839 - val_loss: 0.1535 - val_accuracy: 0.9572 - val_rmse: 7.3546\n",
      "Epoch 2/3\n",
      "1563/1563 [==============================] - 8s 5ms/step - loss: 0.1641 - accuracy: 0.9542 - rmse: 7.3559 - val_loss: 0.1252 - val_accuracy: 0.9659 - val_rmse: 7.4049\n",
      "Epoch 3/3\n",
      "1563/1563 [==============================] - 7s 5ms/step - loss: 0.1379 - accuracy: 0.9631 - rmse: 7.3901 - val_loss: 0.1275 - val_accuracy: 0.9673 - val_rmse: 7.4228\n",
      "313/313 [==============================] - 1s 3ms/step - loss: 0.1161 - accuracy: 0.9712 - rmse: 7.4324\n"
     ]
    }
   ],
   "source": [
    "model = get_mnist_model()\n",
    "model.compile(optimizer=\"rmsprop\",\n",
    "              loss=\"sparse_categorical_crossentropy\",\n",
    "              metrics=[\"accuracy\", RootMeanSquaredError()])\n",
    "model.fit(train_images, train_labels,\n",
    "          epochs=3,\n",
    "          validation_data=(val_images, val_labels))\n",
    "test_metrics = model.evaluate(test_images, test_labels)"
   ]
  },
  {
   "cell_type": "markdown",
   "metadata": {
    "colab_type": "text"
   },
   "source": [
    "### Using callbacks"
   ]
  },
  {
   "cell_type": "markdown",
   "metadata": {
    "colab_type": "text"
   },
   "source": [
    "#### The EarlyStopping and ModelCheckpoint callbacks"
   ]
  },
  {
   "cell_type": "markdown",
   "metadata": {
    "colab_type": "text"
   },
   "source": [
    "**Using the `callbacks` argument in the `fit()` method**"
   ]
  },
  {
   "cell_type": "code",
   "execution_count": 36,
   "metadata": {
    "colab_type": "code"
   },
   "outputs": [
    {
     "name": "stdout",
     "output_type": "stream",
     "text": [
      "Epoch 1/10\n",
      "1563/1563 [==============================] - 8s 5ms/step - loss: 0.2931 - accuracy: 0.9138 - val_loss: 0.1502 - val_accuracy: 0.9561\n",
      "Epoch 2/10\n",
      "1563/1563 [==============================] - 7s 4ms/step - loss: 0.1658 - accuracy: 0.9540 - val_loss: 0.1241 - val_accuracy: 0.9668\n",
      "Epoch 3/10\n",
      "1563/1563 [==============================] - 7s 4ms/step - loss: 0.1413 - accuracy: 0.9623 - val_loss: 0.1112 - val_accuracy: 0.9713\n",
      "Epoch 4/10\n",
      "1563/1563 [==============================] - 7s 4ms/step - loss: 0.1267 - accuracy: 0.9666 - val_loss: 0.1078 - val_accuracy: 0.9722\n",
      "Epoch 5/10\n",
      "1563/1563 [==============================] - 7s 4ms/step - loss: 0.1173 - accuracy: 0.9704 - val_loss: 0.1092 - val_accuracy: 0.9743\n",
      "Epoch 6/10\n",
      "1563/1563 [==============================] - 10s 6ms/step - loss: 0.1098 - accuracy: 0.9733 - val_loss: 0.1068 - val_accuracy: 0.9773\n",
      "Epoch 7/10\n",
      "1563/1563 [==============================] - 7s 4ms/step - loss: 0.1031 - accuracy: 0.9748 - val_loss: 0.1016 - val_accuracy: 0.9775\n",
      "Epoch 8/10\n",
      "1563/1563 [==============================] - 6s 4ms/step - loss: 0.1005 - accuracy: 0.9768 - val_loss: 0.1032 - val_accuracy: 0.9785\n",
      "Epoch 9/10\n",
      "1563/1563 [==============================] - 6s 4ms/step - loss: 0.0949 - accuracy: 0.9777 - val_loss: 0.1164 - val_accuracy: 0.9767\n",
      "Epoch 10/10\n",
      "1563/1563 [==============================] - 6s 4ms/step - loss: 0.0930 - accuracy: 0.9785 - val_loss: 0.1186 - val_accuracy: 0.9761\n"
     ]
    },
    {
     "data": {
      "text/plain": [
       "<keras.callbacks.History at 0x175bf2f9ee0>"
      ]
     },
     "execution_count": 36,
     "metadata": {},
     "output_type": "execute_result"
    }
   ],
   "source": [
    "callbacks_list = [\n",
    "    keras.callbacks.EarlyStopping(\n",
    "        monitor=\"val_accuracy\",\n",
    "        patience=2,\n",
    "    ),\n",
    "    keras.callbacks.ModelCheckpoint(\n",
    "        filepath=\"checkpoint_path.keras\",\n",
    "        monitor=\"val_loss\",\n",
    "        save_best_only=True,\n",
    "    )\n",
    "]\n",
    "model = get_mnist_model()\n",
    "model.compile(optimizer=\"rmsprop\",\n",
    "              loss=\"sparse_categorical_crossentropy\",\n",
    "              metrics=[\"accuracy\"])\n",
    "model.fit(train_images, train_labels,\n",
    "          epochs=10,\n",
    "          callbacks=callbacks_list,\n",
    "          validation_data=(val_images, val_labels))"
   ]
  },
  {
   "cell_type": "code",
   "execution_count": 37,
   "metadata": {
    "colab_type": "code"
   },
   "outputs": [],
   "source": [
    "model = keras.models.load_model(\"checkpoint_path.keras\")"
   ]
  },
  {
   "cell_type": "markdown",
   "metadata": {
    "colab_type": "text"
   },
   "source": [
    "### Writing your own callbacks"
   ]
  },
  {
   "cell_type": "markdown",
   "metadata": {
    "colab_type": "text"
   },
   "source": [
    "**Creating a custom callback by subclassing the `Callback` class**"
   ]
  },
  {
   "cell_type": "code",
   "execution_count": 38,
   "metadata": {
    "colab_type": "code"
   },
   "outputs": [],
   "source": [
    "from matplotlib import pyplot as plt\n",
    "\n",
    "class LossHistory(keras.callbacks.Callback):\n",
    "    def on_train_begin(self, logs):\n",
    "        self.per_batch_losses = []\n",
    "\n",
    "    def on_batch_end(self, batch, logs):\n",
    "        self.per_batch_losses.append(logs.get(\"loss\"))\n",
    "\n",
    "    def on_epoch_end(self, epoch, logs):\n",
    "        plt.clf()\n",
    "        plt.plot(range(len(self.per_batch_losses)), self.per_batch_losses,\n",
    "                 label=\"Training loss for each batch\")\n",
    "        plt.xlabel(f\"Batch (epoch {epoch})\")\n",
    "        plt.ylabel(\"Loss\")\n",
    "        plt.legend()\n",
    "        plt.savefig(f\"plot_at_epoch_{epoch}\")\n",
    "        self.per_batch_losses = []"
   ]
  },
  {
   "cell_type": "code",
   "execution_count": 39,
   "metadata": {
    "colab_type": "code"
   },
   "outputs": [
    {
     "name": "stdout",
     "output_type": "stream",
     "text": [
      "Epoch 1/10\n",
      "1563/1563 [==============================] - 7s 4ms/step - loss: 0.2940 - accuracy: 0.9125 - val_loss: 0.1524 - val_accuracy: 0.9573\n",
      "Epoch 2/10\n",
      "1563/1563 [==============================] - 7s 4ms/step - loss: 0.1667 - accuracy: 0.9526 - val_loss: 0.1201 - val_accuracy: 0.9680\n",
      "Epoch 3/10\n",
      "1563/1563 [==============================] - 7s 4ms/step - loss: 0.1391 - accuracy: 0.9624 - val_loss: 0.1265 - val_accuracy: 0.9666\n",
      "Epoch 4/10\n",
      "1563/1563 [==============================] - 7s 4ms/step - loss: 0.1259 - accuracy: 0.9667 - val_loss: 0.1134 - val_accuracy: 0.9729\n",
      "Epoch 5/10\n",
      "1563/1563 [==============================] - 6s 4ms/step - loss: 0.1162 - accuracy: 0.9709 - val_loss: 0.1077 - val_accuracy: 0.9750\n",
      "Epoch 6/10\n",
      "1563/1563 [==============================] - 7s 4ms/step - loss: 0.1103 - accuracy: 0.9731 - val_loss: 0.1168 - val_accuracy: 0.9760\n",
      "Epoch 7/10\n",
      "1563/1563 [==============================] - 7s 4ms/step - loss: 0.1057 - accuracy: 0.9745 - val_loss: 0.1127 - val_accuracy: 0.9766\n",
      "Epoch 8/10\n",
      "1563/1563 [==============================] - 7s 4ms/step - loss: 0.1025 - accuracy: 0.9762 - val_loss: 0.1028 - val_accuracy: 0.9784\n",
      "Epoch 9/10\n",
      "1563/1563 [==============================] - 7s 4ms/step - loss: 0.0967 - accuracy: 0.9770 - val_loss: 0.1144 - val_accuracy: 0.9786\n",
      "Epoch 10/10\n",
      "1563/1563 [==============================] - 7s 4ms/step - loss: 0.0967 - accuracy: 0.9793 - val_loss: 0.1146 - val_accuracy: 0.9788\n"
     ]
    },
    {
     "data": {
      "text/plain": [
       "<keras.callbacks.History at 0x175c5bb4280>"
      ]
     },
     "execution_count": 39,
     "metadata": {},
     "output_type": "execute_result"
    },
    {
     "data": {
      "image/png": "[encoded data removed]",
      "text/plain": [
       "<Figure size 432x288 with 1 Axes>"
      ]
     },
     "metadata": {
      "needs_background": "light"
     },
     "output_type": "display_data"
    }
   ],
   "source": [
    "model = get_mnist_model()\n",
    "model.compile(optimizer=\"rmsprop\",\n",
    "              loss=\"sparse_categorical_crossentropy\",\n",
    "              metrics=[\"accuracy\"])\n",
    "model.fit(train_images, train_labels,\n",
    "          epochs=10,\n",
    "          callbacks=[LossHistory()],\n",
    "          validation_data=(val_images, val_labels))"
   ]
  },
  {
   "cell_type": "markdown",
   "metadata": {
    "colab_type": "text"
   },
   "source": [
    "### Monitoring and visualization with TensorBoard"
   ]
  },
  {
   "cell_type": "code",
   "execution_count": 40,
   "metadata": {
    "colab_type": "code"
   },
   "outputs": [
    {
     "name": "stdout",
     "output_type": "stream",
     "text": [
      "Epoch 1/10\n",
      "1563/1563 [==============================] - 7s 4ms/step - loss: 0.2943 - accuracy: 0.9127 - val_loss: 0.1561 - val_accuracy: 0.9535\n",
      "Epoch 2/10\n",
      "1563/1563 [==============================] - 7s 4ms/step - loss: 0.1658 - accuracy: 0.9526 - val_loss: 0.1222 - val_accuracy: 0.9688\n",
      "Epoch 3/10\n",
      "1563/1563 [==============================] - 6s 4ms/step - loss: 0.1404 - accuracy: 0.9627 - val_loss: 0.1193 - val_accuracy: 0.9680\n",
      "Epoch 4/10\n",
      "1563/1563 [==============================] - 6s 4ms/step - loss: 0.1236 - accuracy: 0.9674 - val_loss: 0.1088 - val_accuracy: 0.9736\n",
      "Epoch 5/10\n",
      "1563/1563 [==============================] - 6s 4ms/step - loss: 0.1160 - accuracy: 0.9712 - val_loss: 0.1144 - val_accuracy: 0.9739\n",
      "Epoch 6/10\n",
      "1563/1563 [==============================] - 6s 4ms/step - loss: 0.1132 - accuracy: 0.9719 - val_loss: 0.1083 - val_accuracy: 0.9758\n",
      "Epoch 7/10\n",
      "1563/1563 [==============================] - 6s 4ms/step - loss: 0.1022 - accuracy: 0.9747 - val_loss: 0.1177 - val_accuracy: 0.9755\n",
      "Epoch 8/10\n",
      "1563/1563 [==============================] - 6s 4ms/step - loss: 0.1000 - accuracy: 0.9755 - val_loss: 0.1058 - val_accuracy: 0.9781\n",
      "Epoch 9/10\n",
      "1563/1563 [==============================] - 6s 4ms/step - loss: 0.0953 - accuracy: 0.9779 - val_loss: 0.1105 - val_accuracy: 0.9792\n",
      "Epoch 10/10\n",
      "1563/1563 [==============================] - 7s 4ms/step - loss: 0.0946 - accuracy: 0.9781 - val_loss: 0.1203 - val_accuracy: 0.9786\n"
     ]
    },
    {
     "data": {
      "text/plain": [
       "<keras.callbacks.History at 0x1766943aa60>"
      ]
     },
     "execution_count": 40,
     "metadata": {},
     "output_type": "execute_result"
    }
   ],
   "source": [
    "model = get_mnist_model()\n",
    "model.compile(optimizer=\"rmsprop\",\n",
    "              loss=\"sparse_categorical_crossentropy\",\n",
    "              metrics=[\"accuracy\"])\n",
    "\n",
    "tensorboard = keras.callbacks.TensorBoard(\n",
    "    log_dir=\"./logdir\",\n",
    ")\n",
    "model.fit(train_images, train_labels,\n",
    "          epochs=10,\n",
    "          validation_data=(val_images, val_labels),\n",
    "          callbacks=[tensorboard])"
   ]
  },
  {
   "cell_type": "code",
   "execution_count": 41,
   "metadata": {
    "colab_type": "code"
   },
   "outputs": [
    {
     "data": {
      "text/plain": [
       "ERROR: Could not find `tensorboard`. Please ensure that your PATH\n",
       "contains an executable `tensorboard` program, or explicitly specify\n",
       "the path to a TensorBoard binary by setting the `TENSORBOARD_BINARY`\n",
       "environment variable."
      ]
     },
     "metadata": {},
     "output_type": "display_data"
    }
   ],
   "source": [
    "%load_ext tensorboard\n",
    "%tensorboard --logdir ./logdir   # doesn't work here for me because I use anaconda environment"
   ]
  },
  {
   "cell_type": "markdown",
   "metadata": {
    "colab_type": "text"
   },
   "source": [
    "## Writing your own training and evaluation loops"
   ]
  },
  {
   "cell_type": "markdown",
   "metadata": {
    "colab_type": "text"
   },
   "source": [
    "### Training versus inference"
   ]
  },
  {
   "cell_type": "markdown",
   "metadata": {
    "colab_type": "text"
   },
   "source": [
    "### Low-level usage of metrics"
   ]
  },
  {
   "cell_type": "code",
   "execution_count": 42,
   "metadata": {
    "colab_type": "code"
   },
   "outputs": [
    {
     "name": "stdout",
     "output_type": "stream",
     "text": [
      "result: 1.00\n"
     ]
    }
   ],
   "source": [
    "metric = keras.metrics.SparseCategoricalAccuracy()\n",
    "targets = [0, 1, 2]\n",
    "predictions = [[1, 0, 0], [0, 1, 0], [0, 0, 1]]\n",
    "metric.update_state(targets, predictions)\n",
    "current_result = metric.result()\n",
    "print(f\"result: {current_result:.2f}\")"
   ]
  },
  {
   "cell_type": "code",
   "execution_count": 43,
   "metadata": {
    "colab_type": "code"
   },
   "outputs": [
    {
     "name": "stdout",
     "output_type": "stream",
     "text": [
      "0 Mean of values:  0.00\n",
      "1 Mean of values:  0.50\n",
      "2 Mean of values:  1.00\n",
      "3 Mean of values:  1.50\n",
      "4 Mean of values:  2.00\n",
      "Mean of values: 2.00\n"
     ]
    }
   ],
   "source": [
    "values = [0, 1, 2, 3, 4]\n",
    "mean_tracker = keras.metrics.Mean()\n",
    "for value in values:\n",
    "    mean_tracker.update_state(value)\n",
    "    print(f\"{value} Mean of values:  {mean_tracker.result():.2f}\")\n",
    "print(f\"Mean of values: {mean_tracker.result():.2f}\")"
   ]
  },
  {
   "cell_type": "markdown",
   "metadata": {
    "colab_type": "text"
   },
   "source": [
    "### A complete training and evaluation loop"
   ]
  },
  {
   "cell_type": "markdown",
   "metadata": {
    "colab_type": "text"
   },
   "source": [
    "**Writing a step-by-step training loop: the training step function**"
   ]
  },
  {
   "cell_type": "code",
   "execution_count": 44,
   "metadata": {
    "colab_type": "code"
   },
   "outputs": [],
   "source": [
    "model = get_mnist_model()\n",
    "\n",
    "loss_fn = keras.losses.SparseCategoricalCrossentropy()\n",
    "optimizer = keras.optimizers.RMSprop()\n",
    "metrics = [keras.metrics.SparseCategoricalAccuracy()]\n",
    "loss_tracking_metric = keras.metrics.Mean()\n",
    "\n",
    "def train_step(inputs, targets):\n",
    "    with tf.GradientTape() as tape:\n",
    "        predictions = model(inputs, training=True)\n",
    "        loss = loss_fn(targets, predictions)\n",
    "    gradients = tape.gradient(loss, model.trainable_weights)\n",
    "    optimizer.apply_gradients(zip(gradients, model.trainable_weights))\n",
    "\n",
    "    logs = {}\n",
    "    for metric in metrics:\n",
    "        metric.update_state(targets, predictions)\n",
    "        logs[metric.name] = metric.result()\n",
    "\n",
    "    loss_tracking_metric.update_state(loss)\n",
    "    logs[\"loss\"] = loss_tracking_metric.result()\n",
    "    return logs"
   ]
  },
  {
   "cell_type": "markdown",
   "metadata": {
    "colab_type": "text"
   },
   "source": [
    "**Writing a step-by-step training loop: resetting the metrics**"
   ]
  },
  {
   "cell_type": "code",
   "execution_count": 46,
   "metadata": {
    "colab_type": "code"
   },
   "outputs": [],
   "source": [
    "def reset_metrics():\n",
    "    for metric in metrics:\n",
    "        metric.reset_state()\n",
    "    loss_tracking_metric.reset_state()"
   ]
  },
  {
   "cell_type": "markdown",
   "metadata": {
    "colab_type": "text"
   },
   "source": [
    "**Writing a step-by-step training loop: the loop itself**"
   ]
  },
  {
   "cell_type": "code",
   "execution_count": 48,
   "metadata": {
    "colab_type": "code"
   },
   "outputs": [
    {
     "name": "stdout",
     "output_type": "stream",
     "text": [
      "Results at the end of epoch 0\n",
      "...sparse_categorical_accuracy: 0.9670\n",
      "...loss: 0.1287\n",
      "Results at the end of epoch 1\n",
      "...sparse_categorical_accuracy: 0.9707\n",
      "...loss: 0.1208\n",
      "Results at the end of epoch 2\n",
      "...sparse_categorical_accuracy: 0.9734\n",
      "...loss: 0.1118\n",
      "CPU times: total: 13.4 s\n",
      "Wall time: 1min 32s\n"
     ]
    }
   ],
   "source": [
    "%%time\n",
    "training_dataset = tf.data.Dataset.from_tensor_slices((train_images, train_labels))\n",
    "training_dataset = training_dataset.batch(32)\n",
    "epochs = 3\n",
    "for epoch in range(epochs):\n",
    "    reset_metrics()\n",
    "    for inputs_batch, targets_batch in training_dataset:\n",
    "        logs = train_step(inputs_batch, targets_batch)\n",
    "    print(f\"Results at the end of epoch {epoch}\")\n",
    "    for key, value in logs.items():\n",
    "        print(f\"...{key}: {value:.4f}\")"
   ]
  },
  {
   "cell_type": "markdown",
   "metadata": {
    "colab_type": "text"
   },
   "source": [
    "**Writing a step-by-step evaluation loop**"
   ]
  },
  {
   "cell_type": "code",
   "execution_count": 49,
   "metadata": {
    "colab_type": "code"
   },
   "outputs": [
    {
     "name": "stdout",
     "output_type": "stream",
     "text": [
      "Evaluation results:\n",
      "...val_sparse_categorical_accuracy: 0.9720\n",
      "...val_loss: 0.1308\n",
      "CPU times: total: 156 ms\n",
      "Wall time: 2.91 s\n"
     ]
    }
   ],
   "source": [
    "%%time\n",
    "def test_step(inputs, targets):\n",
    "    predictions = model(inputs, training=False)\n",
    "    loss = loss_fn(targets, predictions)\n",
    "\n",
    "    logs = {}\n",
    "    for metric in metrics:\n",
    "        metric.update_state(targets, predictions)\n",
    "        logs[\"val_\" + metric.name] = metric.result()\n",
    "\n",
    "    loss_tracking_metric.update_state(loss)\n",
    "    logs[\"val_loss\"] = loss_tracking_metric.result()\n",
    "    return logs\n",
    "\n",
    "val_dataset = tf.data.Dataset.from_tensor_slices((val_images, val_labels))\n",
    "val_dataset = val_dataset.batch(32)\n",
    "reset_metrics()\n",
    "for inputs_batch, targets_batch in val_dataset:\n",
    "    logs = test_step(inputs_batch, targets_batch)\n",
    "print(\"Evaluation results:\")\n",
    "for key, value in logs.items():\n",
    "    print(f\"...{key}: {value:.4f}\")"
   ]
  },
  {
   "cell_type": "markdown",
   "metadata": {
    "colab_type": "text"
   },
   "source": [
    "### Make it fast with tf.function"
   ]
  },
  {
   "cell_type": "markdown",
   "metadata": {
    "colab_type": "text"
   },
   "source": [
    "**Adding a `tf.function` decorator to our evaluation-step function**"
   ]
  },
  {
   "cell_type": "code",
   "execution_count": 50,
   "metadata": {
    "colab_type": "code"
   },
   "outputs": [
    {
     "name": "stdout",
     "output_type": "stream",
     "text": [
      "WARNING:tensorflow:AutoGraph could not transform <function test_step at 0x0000017593FD1B80> and will run it as-is.\n",
      "Cause: Unable to locate the source code of <function test_step at 0x0000017593FD1B80>. Note that functions defined in certain environments, like the interactive Python shell, do not expose their source code. If that is the case, you should define them in a .py source file. If you are certain the code is graph-compatible, wrap the call using @tf.autograph.experimental.do_not_convert. Original error: could not get source code\n",
      "To silence this warning, decorate the function with @tf.autograph.experimental.do_not_convert\n",
      "WARNING: AutoGraph could not transform <function test_step at 0x0000017593FD1B80> and will run it as-is.\n",
      "Cause: Unable to locate the source code of <function test_step at 0x0000017593FD1B80>. Note that functions defined in certain environments, like the interactive Python shell, do not expose their source code. If that is the case, you should define them in a .py source file. If you are certain the code is graph-compatible, wrap the call using @tf.autograph.experimental.do_not_convert. Original error: could not get source code\n",
      "To silence this warning, decorate the function with @tf.autograph.experimental.do_not_convert\n",
      "Evaluation results:\n",
      "...val_sparse_categorical_accuracy: 0.9720\n",
      "...val_loss: 0.1308\n",
      "CPU times: total: 188 ms\n",
      "Wall time: 737 ms\n"
     ]
    }
   ],
   "source": [
    "%%time\n",
    "\n",
    "@tf.function\n",
    "def test_step(inputs, targets):\n",
    "    predictions = model(inputs, training=False)\n",
    "    loss = loss_fn(targets, predictions)\n",
    "\n",
    "    logs = {}\n",
    "    for metric in metrics:\n",
    "        metric.update_state(targets, predictions)\n",
    "        logs[\"val_\" + metric.name] = metric.result()\n",
    "\n",
    "    loss_tracking_metric.update_state(loss)\n",
    "    logs[\"val_loss\"] = loss_tracking_metric.result()\n",
    "    return logs\n",
    "\n",
    "val_dataset = tf.data.Dataset.from_tensor_slices((val_images, val_labels))\n",
    "val_dataset = val_dataset.batch(32)\n",
    "reset_metrics()\n",
    "for inputs_batch, targets_batch in val_dataset:\n",
    "    logs = test_step(inputs_batch, targets_batch)\n",
    "print(\"Evaluation results:\")\n",
    "for key, value in logs.items():\n",
    "    print(f\"...{key}: {value:.4f}\")"
   ]
  },
  {
   "cell_type": "markdown",
   "metadata": {
    "colab_type": "text"
   },
   "source": [
    "### Leveraging fit() with a custom training loop"
   ]
  },
  {
   "cell_type": "markdown",
   "metadata": {
    "colab_type": "text"
   },
   "source": [
    "**Implementing a custom training step to use with `fit()`**"
   ]
  },
  {
   "cell_type": "code",
   "execution_count": 51,
   "metadata": {
    "colab_type": "code"
   },
   "outputs": [],
   "source": [
    "loss_fn = keras.losses.SparseCategoricalCrossentropy()\n",
    "loss_tracker = keras.metrics.Mean(name=\"loss\")\n",
    "\n",
    "class CustomModel(keras.Model):\n",
    "    def train_step(self, data):\n",
    "        inputs, targets = data\n",
    "        with tf.GradientTape() as tape:\n",
    "            predictions = self(inputs, training=True)\n",
    "            loss = loss_fn(targets, predictions)\n",
    "        gradients = tape.gradient(loss, model.trainable_weights)\n",
    "        optimizer.apply_gradients(zip(gradients, model.trainable_weights))\n",
    "\n",
    "        loss_tracker.update_state(loss)\n",
    "        return {\"loss\": loss_tracker.result()}\n",
    "\n",
    "    @property\n",
    "    def metrics(self):\n",
    "        return [loss_tracker]"
   ]
  },
  {
   "cell_type": "code",
   "execution_count": 52,
   "metadata": {
    "colab_type": "code"
   },
   "outputs": [
    {
     "name": "stdout",
     "output_type": "stream",
     "text": [
      "Epoch 1/3\n",
      "1563/1563 [==============================] - 4s 2ms/step - loss: 0.2950\n",
      "Epoch 2/3\n",
      "1563/1563 [==============================] - 3s 2ms/step - loss: 0.1643\n",
      "Epoch 3/3\n",
      "1563/1563 [==============================] - 3s 2ms/step - loss: 0.1413\n"
     ]
    },
    {
     "data": {
      "text/plain": [
       "<keras.callbacks.History at 0x175beda5250>"
      ]
     },
     "execution_count": 52,
     "metadata": {},
     "output_type": "execute_result"
    }
   ],
   "source": [
    "inputs = keras.Input(shape=(28 * 28,))\n",
    "features = layers.Dense(512, activation=\"relu\")(inputs)\n",
    "features = layers.Dropout(0.5)(features)\n",
    "outputs = layers.Dense(10, activation=\"softmax\")(features)\n",
    "model = CustomModel(inputs, outputs)\n",
    "\n",
    "model.compile(optimizer=keras.optimizers.RMSprop())\n",
    "model.fit(train_images, train_labels, epochs=3)"
   ]
  },
  {
   "cell_type": "code",
   "execution_count": 53,
   "metadata": {
    "colab_type": "code"
   },
   "outputs": [],
   "source": [
    "class CustomModel(keras.Model):\n",
    "    def train_step(self, data):\n",
    "        inputs, targets = data\n",
    "        with tf.GradientTape() as tape:\n",
    "            predictions = self(inputs, training=True)\n",
    "            loss = self.compiled_loss(targets, predictions)\n",
    "        gradients = tape.gradient(loss, model.trainable_weights)\n",
    "        optimizer.apply_gradients(zip(gradients, model.trainable_weights))\n",
    "        self.compiled_metrics.update_state(targets, predictions)\n",
    "        return {m.name: m.result() for m in self.metrics}"
   ]
  },
  {
   "cell_type": "code",
   "execution_count": 55,
   "metadata": {
    "colab_type": "code"
   },
   "outputs": [
    {
     "name": "stdout",
     "output_type": "stream",
     "text": [
      "Epoch 1/3\n",
      "1563/1563 [==============================] - 5s 3ms/step - loss: 0.2937 - sparse_categorical_accuracy: 0.9132\n",
      "Epoch 2/3\n",
      "1563/1563 [==============================] - 4s 3ms/step - loss: 0.1655 - sparse_categorical_accuracy: 0.9536\n",
      "Epoch 3/3\n",
      "1563/1563 [==============================] - 4s 3ms/step - loss: 0.1420 - sparse_categorical_accuracy: 0.9620\n",
      "CPU times: total: 3.52 s\n",
      "Wall time: 13.4 s\n"
     ]
    },
    {
     "data": {
      "text/plain": [
       "<keras.callbacks.History at 0x17689172070>"
      ]
     },
     "execution_count": 55,
     "metadata": {},
     "output_type": "execute_result"
    }
   ],
   "source": [
    "%%time\n",
    "inputs = keras.Input(shape=(28 * 28,))\n",
    "features = layers.Dense(512, activation=\"relu\")(inputs)\n",
    "features = layers.Dropout(0.5)(features)\n",
    "outputs = layers.Dense(10, activation=\"softmax\")(features)\n",
    "model = CustomModel(inputs, outputs)\n",
    "\n",
    "model.compile(optimizer=keras.optimizers.RMSprop(),\n",
    "              loss=keras.losses.SparseCategoricalCrossentropy(),\n",
    "              metrics=[keras.metrics.SparseCategoricalAccuracy()])\n",
    "model.fit(train_images, train_labels, epochs=3)"
   ]
  },
  {
   "cell_type": "markdown",
   "metadata": {
    "colab_type": "text"
   },
   "source": [
    "## Summary"
   ]
  }
 ],
 "metadata": {
  "colab": {
   "collapsed_sections": [],
   "name": "chapter07_working-with-keras.i",
   "private_outputs": false,
   "provenance": [],
   "toc_visible": true
  },
  "kernelspec": {
   "display_name": "tensorflow",
   "language": "python",
   "name": "tensorflow"
  },
  "language_info": {
   "codemirror_mode": {
    "name": "ipython",
    "version": 3
   },
   "file_extension": ".py",
   "mimetype": "text/x-python",
   "name": "python",
   "nbconvert_exporter": "python",
   "pygments_lexer": "ipython3",
   "version": "3.9.13"
  }
 },
 "nbformat": 4,
 "nbformat_minor": 1
}
